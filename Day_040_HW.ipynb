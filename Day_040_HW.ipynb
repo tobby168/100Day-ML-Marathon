{
 "cells": [
  {
   "cell_type": "markdown",
   "metadata": {},
   "source": [
    "## [作業重點]\n",
    "使用 Sklearn 中的 Lasso, Ridge 模型，來訓練各種資料集，務必了解送進去模型訓練的**資料型態**為何，也請了解模型中各項參數的意義。\n",
    "\n",
    "機器學習的模型非常多種，但要訓練的資料多半有固定的格式，確保你了解訓練資料的格式為何，這樣在應用新模型時，就能夠最快的上手開始訓練！"
   ]
  },
  {
   "cell_type": "markdown",
   "metadata": {},
   "source": [
    "## 練習時間\n",
    "試著使用 sklearn datasets 的其他資料集 (boston, ...)，來訓練自己的線性迴歸模型，並加上適當的正則話來觀察訓練情形。"
   ]
  },
  {
   "cell_type": "code",
   "execution_count": 1,
   "metadata": {},
   "outputs": [],
   "source": [
    "import numpy as np\n",
    "import matplotlib.pyplot as plt\n",
    "from sklearn import datasets, linear_model\n",
    "from sklearn.model_selection import train_test_split\n",
    "from sklearn.metrics import mean_squared_error, r2_score"
   ]
  },
  {
   "cell_type": "code",
   "execution_count": 5,
   "metadata": {},
   "outputs": [
    {
     "name": "stdout",
     "output_type": "stream",
     "text": [
      "Data shape:  (569, 1)\n"
     ]
    },
    {
     "name": "stderr",
     "output_type": "stream",
     "text": [
      "/anaconda3/lib/python3.7/site-packages/sklearn/linear_model/logistic.py:433: FutureWarning: Default solver will be changed to 'lbfgs' in 0.22. Specify a solver to silence this warning.\n",
      "  FutureWarning)\n"
     ]
    }
   ],
   "source": [
    "breast_cancer = datasets.load_breast_cancer()\n",
    "print(\"Data shape: \", X.shape)\n",
    "\n",
    "# 切分訓練集/測試集\n",
    "x_train, x_test, y_train, y_test = train_test_split(breast_cancer.data, breast_cancer.target, test_size=0.1, random_state=4)\n",
    "\n",
    "# 建立模型\n",
    "logreg = linear_model.LogisticRegression(penalty = 'l2',C = 3)\n",
    "\n",
    "# 訓練模型\n",
    "logreg.fit(x_train, y_train)\n",
    "\n",
    "# 預測測試集\n",
    "y_pred = logreg.predict(x_test)"
   ]
  },
  {
   "cell_type": "code",
   "execution_count": 6,
   "metadata": {},
   "outputs": [
    {
     "name": "stdout",
     "output_type": "stream",
     "text": [
      "[[ 2.35652578e+00  2.42795561e-01 -1.45988162e-01 -1.86577125e-03\n",
      "  -2.15453251e-01 -4.85353875e-01 -7.86751130e-01 -4.25635424e-01\n",
      "  -2.84401807e-01 -3.81566329e-02  3.83780995e-02  1.22796617e+00\n",
      "   1.78737342e-01 -1.22357134e-01 -1.86608220e-02  8.44306272e-02\n",
      "  -1.20301878e-02 -3.76501012e-02 -2.22662422e-02  2.54799101e-02\n",
      "   1.77134222e+00 -4.56560040e-01 -1.01595899e-01 -3.22511557e-02\n",
      "  -3.91244253e-01 -1.29868720e+00 -2.04856800e+00 -8.07692650e-01\n",
      "  -7.47899861e-01 -1.26071241e-01]]\n",
      "Mean squared error: 0.12\n"
     ]
    }
   ],
   "source": [
    "print(logreg.coef_)\n",
    "print(\"Mean squared error: %.2f\"\n",
    "      % mean_squared_error(y_test, y_pred))"
   ]
  },
  {
   "cell_type": "code",
   "execution_count": 8,
   "metadata": {},
   "outputs": [],
   "source": [
    "LASSO = linear_model.Lasso(alpha=0.1)\n",
    "LASSO.fit(x_train, y_train)\n",
    "y_pred = LASSO.predict(x_test)"
   ]
  },
  {
   "cell_type": "code",
   "execution_count": 9,
   "metadata": {},
   "outputs": [
    {
     "name": "stdout",
     "output_type": "stream",
     "text": [
      "[-0.         -0.         -0.          0.00027474 -0.         -0.\n",
      " -0.         -0.         -0.         -0.         -0.         -0.\n",
      " -0.         -0.00026768 -0.         -0.         -0.         -0.\n",
      " -0.         -0.         -0.         -0.0111563  -0.01956302  0.00040181\n",
      " -0.         -0.         -0.         -0.         -0.         -0.        ]\n",
      "Mean squared error: 0.09\n"
     ]
    }
   ],
   "source": [
    "print(LASSO.coef_)\n",
    "print(\"Mean squared error: %.2f\"\n",
    "      % mean_squared_error(y_test, y_pred))"
   ]
  },
  {
   "cell_type": "code",
   "execution_count": 14,
   "metadata": {},
   "outputs": [],
   "source": [
    "Ridge = linear_model.Ridge(alpha=0.5)\n",
    "Ridge.fit(x_train, y_train)\n",
    "y_pred = LASSO.predict(x_test)"
   ]
  },
  {
   "cell_type": "code",
   "execution_count": 15,
   "metadata": {},
   "outputs": [
    {
     "name": "stdout",
     "output_type": "stream",
     "text": [
      "[ 0.10467618 -0.00182417  0.0071055  -0.00115554 -0.2350055   0.14506812\n",
      " -0.25225022 -0.34927296 -0.12040307 -0.0253823  -0.33691595 -0.00927033\n",
      " -0.00084006  0.00116178 -0.10120208  0.13646202  0.36233912 -0.05086908\n",
      " -0.05390936  0.01634267 -0.25663465 -0.00898286  0.00452237  0.00131346\n",
      " -0.54953257  0.06968255 -0.4298774  -0.58253247 -0.4348518  -0.15912407]\n",
      "Mean squared error: 0.09\n"
     ]
    }
   ],
   "source": [
    "print(Ridge.coef_)\n",
    "print(\"Mean squared error: %.2f\"\n",
    "      % mean_squared_error(y_test, y_pred))"
   ]
  },
  {
   "cell_type": "code",
   "execution_count": null,
   "metadata": {},
   "outputs": [],
   "source": []
  }
 ],
 "metadata": {
  "kernelspec": {
   "display_name": "Python 3",
   "language": "python",
   "name": "python3"
  },
  "language_info": {
   "codemirror_mode": {
    "name": "ipython",
    "version": 3
   },
   "file_extension": ".py",
   "mimetype": "text/x-python",
   "name": "python",
   "nbconvert_exporter": "python",
   "pygments_lexer": "ipython3",
   "version": "3.7.3"
  }
 },
 "nbformat": 4,
 "nbformat_minor": 2
}
